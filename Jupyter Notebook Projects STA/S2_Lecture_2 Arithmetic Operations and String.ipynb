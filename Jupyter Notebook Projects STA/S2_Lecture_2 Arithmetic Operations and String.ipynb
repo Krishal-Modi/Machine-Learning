{
 "cells": [
  {
   "cell_type": "code",
   "execution_count": 1,
   "id": "37ab0a7f",
   "metadata": {},
   "outputs": [
    {
     "data": {
      "text/plain": [
       "4"
      ]
     },
     "execution_count": 1,
     "metadata": {},
     "output_type": "execute_result"
    }
   ],
   "source": [
    "2+2"
   ]
  },
  {
   "cell_type": "code",
   "execution_count": 2,
   "id": "af79fe38",
   "metadata": {},
   "outputs": [
    {
     "data": {
      "text/plain": [
       "3"
      ]
     },
     "execution_count": 2,
     "metadata": {},
     "output_type": "execute_result"
    }
   ],
   "source": [
    "5-2"
   ]
  },
  {
   "cell_type": "code",
   "execution_count": 3,
   "id": "2e961b3d",
   "metadata": {},
   "outputs": [
    {
     "data": {
      "text/plain": [
       "12"
      ]
     },
     "execution_count": 3,
     "metadata": {},
     "output_type": "execute_result"
    }
   ],
   "source": [
    "3*4"
   ]
  },
  {
   "cell_type": "code",
   "execution_count": 4,
   "id": "081c9cab",
   "metadata": {},
   "outputs": [
    {
     "data": {
      "text/plain": [
       "2.5"
      ]
     },
     "execution_count": 4,
     "metadata": {},
     "output_type": "execute_result"
    }
   ],
   "source": [
    "5/2"
   ]
  },
  {
   "cell_type": "code",
   "execution_count": 5,
   "id": "4511a656",
   "metadata": {},
   "outputs": [
    {
     "data": {
      "text/plain": [
       "25"
      ]
     },
     "execution_count": 5,
     "metadata": {},
     "output_type": "execute_result"
    }
   ],
   "source": [
    "5**2"
   ]
  },
  {
   "cell_type": "code",
   "execution_count": 6,
   "id": "1c04c118",
   "metadata": {},
   "outputs": [
    {
     "data": {
      "text/plain": [
       "1"
      ]
     },
     "execution_count": 6,
     "metadata": {},
     "output_type": "execute_result"
    }
   ],
   "source": [
    "5%2"
   ]
  },
  {
   "cell_type": "markdown",
   "id": "5f8274d5",
   "metadata": {},
   "source": [
    "Following BODMAS"
   ]
  },
  {
   "cell_type": "code",
   "execution_count": 7,
   "id": "97724f83",
   "metadata": {},
   "outputs": [
    {
     "data": {
      "text/plain": [
       "14"
      ]
     },
     "execution_count": 7,
     "metadata": {},
     "output_type": "execute_result"
    }
   ],
   "source": [
    "5*2+4"
   ]
  },
  {
   "cell_type": "code",
   "execution_count": 8,
   "id": "719e7451",
   "metadata": {},
   "outputs": [
    {
     "data": {
      "text/plain": [
       "30"
      ]
     },
     "execution_count": 8,
     "metadata": {},
     "output_type": "execute_result"
    }
   ],
   "source": [
    "5*(2+4)"
   ]
  },
  {
   "cell_type": "code",
   "execution_count": 10,
   "id": "fbde8917",
   "metadata": {},
   "outputs": [
    {
     "data": {
      "text/plain": [
       "2"
      ]
     },
     "execution_count": 10,
     "metadata": {},
     "output_type": "execute_result"
    }
   ],
   "source": [
    "var1 = 2\n",
    "var1"
   ]
  },
  {
   "cell_type": "code",
   "execution_count": 11,
   "id": "b9660bfb",
   "metadata": {},
   "outputs": [],
   "source": [
    "var1 = 2"
   ]
  },
  {
   "cell_type": "code",
   "execution_count": 12,
   "id": "9ca4bd2c",
   "metadata": {},
   "outputs": [
    {
     "data": {
      "text/plain": [
       "2"
      ]
     },
     "execution_count": 12,
     "metadata": {},
     "output_type": "execute_result"
    }
   ],
   "source": [
    "var1"
   ]
  },
  {
   "cell_type": "code",
   "execution_count": 13,
   "id": "76102ead",
   "metadata": {},
   "outputs": [],
   "source": [
    "var1 = 5*2+4"
   ]
  },
  {
   "cell_type": "code",
   "execution_count": 14,
   "id": "ee13e3c3",
   "metadata": {},
   "outputs": [
    {
     "data": {
      "text/plain": [
       "14"
      ]
     },
     "execution_count": 14,
     "metadata": {},
     "output_type": "execute_result"
    }
   ],
   "source": [
    "var1\n"
   ]
  },
  {
   "cell_type": "code",
   "execution_count": 15,
   "id": "63d4643b",
   "metadata": {},
   "outputs": [
    {
     "data": {
      "text/plain": [
       "True"
      ]
     },
     "execution_count": 15,
     "metadata": {},
     "output_type": "execute_result"
    }
   ],
   "source": [
    "5>2"
   ]
  },
  {
   "cell_type": "code",
   "execution_count": 16,
   "id": "2a9108c4",
   "metadata": {},
   "outputs": [
    {
     "data": {
      "text/plain": [
       "False"
      ]
     },
     "execution_count": 16,
     "metadata": {},
     "output_type": "execute_result"
    }
   ],
   "source": [
    "3<=2"
   ]
  },
  {
   "cell_type": "code",
   "execution_count": 17,
   "id": "29979782",
   "metadata": {},
   "outputs": [
    {
     "data": {
      "text/plain": [
       "'String Python Tutorials'"
      ]
     },
     "execution_count": 17,
     "metadata": {},
     "output_type": "execute_result"
    }
   ],
   "source": [
    "\"String Python Tutorials\""
   ]
  },
  {
   "cell_type": "code",
   "execution_count": 18,
   "id": "4f195af2",
   "metadata": {},
   "outputs": [],
   "source": [
    "str1 = \"st python tutorial\""
   ]
  },
  {
   "cell_type": "code",
   "execution_count": 19,
   "id": "888c992e",
   "metadata": {},
   "outputs": [
    {
     "data": {
      "text/plain": [
       "'st python tutorial'"
      ]
     },
     "execution_count": 19,
     "metadata": {},
     "output_type": "execute_result"
    }
   ],
   "source": [
    "str1"
   ]
  },
  {
   "cell_type": "code",
   "execution_count": 20,
   "id": "fa3ce050",
   "metadata": {},
   "outputs": [
    {
     "name": "stdout",
     "output_type": "stream",
     "text": [
      "st python tutorial\n"
     ]
    }
   ],
   "source": [
    "print(str1)"
   ]
  },
  {
   "cell_type": "code",
   "execution_count": 21,
   "id": "c4154257",
   "metadata": {},
   "outputs": [],
   "source": [
    "x = \"R\""
   ]
  },
  {
   "cell_type": "code",
   "execution_count": 24,
   "id": "12bae653",
   "metadata": {},
   "outputs": [
    {
     "name": "stdout",
     "output_type": "stream",
     "text": [
      "st SQL tutorial\n"
     ]
    }
   ],
   "source": [
    "print(\"st {} tutorial\".format(x))"
   ]
  },
  {
   "cell_type": "code",
   "execution_count": 23,
   "id": "a7648784",
   "metadata": {},
   "outputs": [],
   "source": [
    "x = \"SQL\""
   ]
  },
  {
   "cell_type": "code",
   "execution_count": 25,
   "id": "9e631a04",
   "metadata": {},
   "outputs": [
    {
     "name": "stdout",
     "output_type": "stream",
     "text": [
      "st SQL tutorial 14\n"
     ]
    }
   ],
   "source": [
    "print(\"st {} tutorial {}\".format(x,var1))"
   ]
  },
  {
   "cell_type": "code",
   "execution_count": 26,
   "id": "010dcb5d",
   "metadata": {},
   "outputs": [
    {
     "data": {
      "text/plain": [
       "18"
      ]
     },
     "execution_count": 26,
     "metadata": {},
     "output_type": "execute_result"
    }
   ],
   "source": [
    "len(str1)"
   ]
  },
  {
   "cell_type": "code",
   "execution_count": 27,
   "id": "d5a25619",
   "metadata": {},
   "outputs": [
    {
     "data": {
      "text/plain": [
       "'st python tutorial'"
      ]
     },
     "execution_count": 27,
     "metadata": {},
     "output_type": "execute_result"
    }
   ],
   "source": [
    "str1"
   ]
  },
  {
   "cell_type": "code",
   "execution_count": 29,
   "id": "9b5f174a",
   "metadata": {},
   "outputs": [
    {
     "data": {
      "text/plain": [
       "'st SQL tutorial'"
      ]
     },
     "execution_count": 29,
     "metadata": {},
     "output_type": "execute_result"
    }
   ],
   "source": [
    "str1.replace(\"python\",\"SQL\")"
   ]
  },
  {
   "cell_type": "code",
   "execution_count": 30,
   "id": "1c6fcc23",
   "metadata": {},
   "outputs": [],
   "source": [
    "x = str1.replace(\"python\",\"SQL\")"
   ]
  },
  {
   "cell_type": "code",
   "execution_count": 31,
   "id": "ff73f3e5",
   "metadata": {},
   "outputs": [
    {
     "data": {
      "text/plain": [
       "'st SQL tutorial'"
      ]
     },
     "execution_count": 31,
     "metadata": {},
     "output_type": "execute_result"
    }
   ],
   "source": [
    "x"
   ]
  },
  {
   "cell_type": "code",
   "execution_count": 32,
   "id": "bc68c3b4",
   "metadata": {},
   "outputs": [
    {
     "data": {
      "text/plain": [
       "'t'"
      ]
     },
     "execution_count": 32,
     "metadata": {},
     "output_type": "execute_result"
    }
   ],
   "source": [
    "x[1]"
   ]
  },
  {
   "cell_type": "code",
   "execution_count": 33,
   "id": "9230a410",
   "metadata": {},
   "outputs": [
    {
     "data": {
      "text/plain": [
       "' SQ'"
      ]
     },
     "execution_count": 33,
     "metadata": {},
     "output_type": "execute_result"
    }
   ],
   "source": [
    "x[2:5]"
   ]
  },
  {
   "cell_type": "code",
   "execution_count": 34,
   "id": "eadf4f95",
   "metadata": {},
   "outputs": [
    {
     "data": {
      "text/plain": [
       "'QL'"
      ]
     },
     "execution_count": 34,
     "metadata": {},
     "output_type": "execute_result"
    }
   ],
   "source": [
    "x[4:6]"
   ]
  },
  {
   "cell_type": "code",
   "execution_count": 35,
   "id": "4314df0a",
   "metadata": {},
   "outputs": [
    {
     "data": {
      "text/plain": [
       "'l'"
      ]
     },
     "execution_count": 35,
     "metadata": {},
     "output_type": "execute_result"
    }
   ],
   "source": [
    "x[-1]"
   ]
  },
  {
   "cell_type": "code",
   "execution_count": 36,
   "id": "845aa754",
   "metadata": {},
   "outputs": [
    {
     "data": {
      "text/plain": [
       "'st SQ'"
      ]
     },
     "execution_count": 36,
     "metadata": {},
     "output_type": "execute_result"
    }
   ],
   "source": [
    "x[:5]"
   ]
  },
  {
   "cell_type": "code",
   "execution_count": 37,
   "id": "2fc952f3",
   "metadata": {},
   "outputs": [
    {
     "data": {
      "text/plain": [
       "'L tutorial'"
      ]
     },
     "execution_count": 37,
     "metadata": {},
     "output_type": "execute_result"
    }
   ],
   "source": [
    "x[5:]"
   ]
  },
  {
   "cell_type": "code",
   "execution_count": 39,
   "id": "3eb0b98e",
   "metadata": {},
   "outputs": [
    {
     "data": {
      "text/plain": [
       "' Q u'"
      ]
     },
     "execution_count": 39,
     "metadata": {},
     "output_type": "execute_result"
    }
   ],
   "source": [
    "x[2:10:2]"
   ]
  },
  {
   "cell_type": "code",
   "execution_count": 42,
   "id": "6c2c25ea",
   "metadata": {},
   "outputs": [
    {
     "data": {
      "text/plain": [
       "'st SQL tutorial'"
      ]
     },
     "execution_count": 42,
     "metadata": {},
     "output_type": "execute_result"
    }
   ],
   "source": [
    "x"
   ]
  },
  {
   "cell_type": "code",
   "execution_count": 43,
   "id": "6eeff978",
   "metadata": {},
   "outputs": [
    {
     "data": {
      "text/plain": [
       "str"
      ]
     },
     "execution_count": 43,
     "metadata": {},
     "output_type": "execute_result"
    }
   ],
   "source": [
    "type(x)"
   ]
  },
  {
   "cell_type": "code",
   "execution_count": 44,
   "id": "853f0acb",
   "metadata": {},
   "outputs": [
    {
     "data": {
      "text/plain": [
       "int"
      ]
     },
     "execution_count": 44,
     "metadata": {},
     "output_type": "execute_result"
    }
   ],
   "source": [
    "type(var1)"
   ]
  },
  {
   "cell_type": "code",
   "execution_count": 45,
   "id": "a2699052",
   "metadata": {},
   "outputs": [],
   "source": [
    "var2 = 5/2"
   ]
  },
  {
   "cell_type": "code",
   "execution_count": 46,
   "id": "b06a1340",
   "metadata": {},
   "outputs": [
    {
     "data": {
      "text/plain": [
       "2.5"
      ]
     },
     "execution_count": 46,
     "metadata": {},
     "output_type": "execute_result"
    }
   ],
   "source": [
    "var2"
   ]
  },
  {
   "cell_type": "code",
   "execution_count": 47,
   "id": "e46dc1ab",
   "metadata": {},
   "outputs": [
    {
     "data": {
      "text/plain": [
       "float"
      ]
     },
     "execution_count": 47,
     "metadata": {},
     "output_type": "execute_result"
    }
   ],
   "source": [
    "type(var2)"
   ]
  },
  {
   "cell_type": "code",
   "execution_count": null,
   "id": "bea26b5d",
   "metadata": {},
   "outputs": [],
   "source": []
  }
 ],
 "metadata": {
  "kernelspec": {
   "display_name": "Python 3 (ipykernel)",
   "language": "python",
   "name": "python3"
  },
  "language_info": {
   "codemirror_mode": {
    "name": "ipython",
    "version": 3
   },
   "file_extension": ".py",
   "mimetype": "text/x-python",
   "name": "python",
   "nbconvert_exporter": "python",
   "pygments_lexer": "ipython3",
   "version": "3.11.5"
  }
 },
 "nbformat": 4,
 "nbformat_minor": 5
}
